{
  "cells": [
    {
      "cell_type": "markdown",
      "metadata": {
        "id": "9TnJztDZGw-n"
      },
      "source": [
        "# Classification de texte avec un RNN\n"
      ]
    },
    {
      "cell_type": "markdown",
      "metadata": {
        "id": "lUWearf0Gw-p"
      },
      "source": [
        "Le but de ce TP est de fournir un aperçu complet de l'utilisation des réseaux de neurones récurrents (RNN) dans le domaine de la classification de texte. Nous nous concentrons spécifiquement sur l'application des RNN pour l'analyse des sentiments, en utilisant l'ensemble de données de critiques de films IMDB comme principal cas d'étude."
      ]
    },
    {
      "cell_type": "markdown",
      "source": [
        "# Importe les bibliothèques nécessaires"
      ],
      "metadata": {
        "id": "WVGvl_EVgRis"
      }
    },
    {
      "cell_type": "code",
      "execution_count": 2,
      "metadata": {
        "id": "z682XYsrjkY9"
      },
      "outputs": [],
      "source": [
        "import numpy as np\n",
        "import pandas as pd\n",
        "import matplotlib.pyplot as plt\n",
        "import tensorflow_datasets as tfds\n",
        "import tensorflow as tf"
      ]
    },
    {
      "cell_type": "markdown",
      "source": [
        "# En Charge l'ensemble de données \"imdb_reviews\" à partir de TensorFlow Datasets."
      ],
      "metadata": {
        "id": "hPgh0BtNjLk6"
      }
    },
    {
      "cell_type": "code",
      "execution_count": 42,
      "metadata": {
        "id": "SHRwRoP2nVHX"
      },
      "outputs": [],
      "source": [
        "dataset, info = tfds.load('imdb_reviews', with_info=True,as_supervised=True)\n",
        "train_dataset, test_dataset = dataset['train'], dataset['test']"
      ]
    },
    {
      "cell_type": "markdown",
      "source": [
        "# Affichage itératif des 5 premiers exemples et étiquettes du dataset d'entraînement."
      ],
      "metadata": {
        "id": "BQ8py1Wuk49G"
      }
    },
    {
      "cell_type": "code",
      "execution_count": 43,
      "metadata": {
        "id": "vd4_BGKyurao",
        "colab": {
          "base_uri": "https://localhost:8080/"
        },
        "outputId": "18db2500-8dbb-4661-f505-b50adf7214b2"
      },
      "outputs": [
        {
          "output_type": "stream",
          "name": "stdout",
          "text": [
            "-----------------------------1----------------------------\n",
            "text:  b\"This was an absolutely terrible movie. Don't be lured in by Christopher Walken or Michael Ironside. Both are great actors, but this must simply be their worst role in history. Even their great acting could not redeem this movie's ridiculous storyline. This movie is an early nineties US propaganda piece. The most pathetic scenes were those when the Columbian rebels were making their cases for revolutions. Maria Conchita Alonso appeared phony, and her pseudo-love affair with Walken was nothing but a pathetic emotional plug in a movie that was devoid of any real meaning. I am disappointed that there are movies like this, ruining actor's like Christopher Walken's good name. I could barely sit through it.\"\n",
            "label:  0\n",
            "-----------------------------2----------------------------\n",
            "text:  b\"This was an absolutely terrible movie. Don't be lured in by Christopher Walken or Michael Ironside. Both are great actors, but this must simply be their worst role in history. Even their great acting could not redeem this movie's ridiculous storyline. This movie is an early nineties US propaganda piece. The most pathetic scenes were those when the Columbian rebels were making their cases for revolutions. Maria Conchita Alonso appeared phony, and her pseudo-love affair with Walken was nothing but a pathetic emotional plug in a movie that was devoid of any real meaning. I am disappointed that there are movies like this, ruining actor's like Christopher Walken's good name. I could barely sit through it.\"\n",
            "label:  0\n",
            "text:  b'I have been known to fall asleep during films, but this is usually due to a combination of things including, really tired, being warm and comfortable on the sette and having just eaten a lot. However on this occasion I fell asleep because the film was rubbish. The plot development was constant. Constantly slow and boring. Things seemed to happen, but with no explanation of what was causing them or why. I admit, I may have missed part of the film, but i watched the majority of it and everything just seemed to happen of its own accord without any real concern for anything else. I cant recommend this film at all.'\n",
            "label:  0\n",
            "-----------------------------3----------------------------\n",
            "text:  b\"This was an absolutely terrible movie. Don't be lured in by Christopher Walken or Michael Ironside. Both are great actors, but this must simply be their worst role in history. Even their great acting could not redeem this movie's ridiculous storyline. This movie is an early nineties US propaganda piece. The most pathetic scenes were those when the Columbian rebels were making their cases for revolutions. Maria Conchita Alonso appeared phony, and her pseudo-love affair with Walken was nothing but a pathetic emotional plug in a movie that was devoid of any real meaning. I am disappointed that there are movies like this, ruining actor's like Christopher Walken's good name. I could barely sit through it.\"\n",
            "label:  0\n",
            "text:  b'I have been known to fall asleep during films, but this is usually due to a combination of things including, really tired, being warm and comfortable on the sette and having just eaten a lot. However on this occasion I fell asleep because the film was rubbish. The plot development was constant. Constantly slow and boring. Things seemed to happen, but with no explanation of what was causing them or why. I admit, I may have missed part of the film, but i watched the majority of it and everything just seemed to happen of its own accord without any real concern for anything else. I cant recommend this film at all.'\n",
            "label:  0\n",
            "text:  b'Mann photographs the Alberta Rocky Mountains in a superb fashion, and Jimmy Stewart and Walter Brennan give enjoyable performances as they always seem to do. <br /><br />But come on Hollywood - a Mountie telling the people of Dawson City, Yukon to elect themselves a marshal (yes a marshal!) and to enforce the law themselves, then gunfighters battling it out on the streets for control of the town? <br /><br />Nothing even remotely resembling that happened on the Canadian side of the border during the Klondike gold rush. Mr. Mann and company appear to have mistaken Dawson City for Deadwood, the Canadian North for the American Wild West.<br /><br />Canadian viewers be prepared for a Reefer Madness type of enjoyable howl with this ludicrous plot, or, to shake your head in disgust.'\n",
            "label:  0\n",
            "-----------------------------4----------------------------\n",
            "text:  b\"This was an absolutely terrible movie. Don't be lured in by Christopher Walken or Michael Ironside. Both are great actors, but this must simply be their worst role in history. Even their great acting could not redeem this movie's ridiculous storyline. This movie is an early nineties US propaganda piece. The most pathetic scenes were those when the Columbian rebels were making their cases for revolutions. Maria Conchita Alonso appeared phony, and her pseudo-love affair with Walken was nothing but a pathetic emotional plug in a movie that was devoid of any real meaning. I am disappointed that there are movies like this, ruining actor's like Christopher Walken's good name. I could barely sit through it.\"\n",
            "label:  0\n",
            "text:  b'I have been known to fall asleep during films, but this is usually due to a combination of things including, really tired, being warm and comfortable on the sette and having just eaten a lot. However on this occasion I fell asleep because the film was rubbish. The plot development was constant. Constantly slow and boring. Things seemed to happen, but with no explanation of what was causing them or why. I admit, I may have missed part of the film, but i watched the majority of it and everything just seemed to happen of its own accord without any real concern for anything else. I cant recommend this film at all.'\n",
            "label:  0\n",
            "text:  b'Mann photographs the Alberta Rocky Mountains in a superb fashion, and Jimmy Stewart and Walter Brennan give enjoyable performances as they always seem to do. <br /><br />But come on Hollywood - a Mountie telling the people of Dawson City, Yukon to elect themselves a marshal (yes a marshal!) and to enforce the law themselves, then gunfighters battling it out on the streets for control of the town? <br /><br />Nothing even remotely resembling that happened on the Canadian side of the border during the Klondike gold rush. Mr. Mann and company appear to have mistaken Dawson City for Deadwood, the Canadian North for the American Wild West.<br /><br />Canadian viewers be prepared for a Reefer Madness type of enjoyable howl with this ludicrous plot, or, to shake your head in disgust.'\n",
            "label:  0\n",
            "text:  b'This is the kind of film for a snowy Sunday afternoon when the rest of the world can go ahead with its own business as you descend into a big arm-chair and mellow for a couple of hours. Wonderful performances from Cher and Nicolas Cage (as always) gently row the plot along. There are no rapids to cross, no dangerous waters, just a warm and witty paddle through New York life at its best. A family film in every sense and one that deserves the praise it received.'\n",
            "label:  1\n"
          ]
        }
      ],
      "source": [
        "for i in range(1,5):\n",
        "  print(\"-----------------------------\"+str(i)+\"----------------------------\")\n",
        "  for example, label in train_dataset.take(i):\n",
        "    print('text: ', example.numpy())\n",
        "    print('label: ', label.numpy())"
      ]
    },
    {
      "cell_type": "markdown",
      "source": [
        "# Prétraitement et affichage des 10 premiers exemples et étiquettes du dataset d'entraînement."
      ],
      "metadata": {
        "id": "zJBAdW4RllFu"
      }
    },
    {
      "cell_type": "code",
      "execution_count": 44,
      "metadata": {
        "id": "dDsCaZCDYZgm"
      },
      "outputs": [],
      "source": [
        "BUFFER_SIZE = 10000\n",
        "BATCH_SIZE = 64"
      ]
    },
    {
      "cell_type": "code",
      "execution_count": 45,
      "metadata": {
        "id": "VznrltNOnUc5"
      },
      "outputs": [],
      "source": [
        "train_dataset = train_dataset.shuffle(BUFFER_SIZE).batch(BATCH_SIZE).prefetch(tf.data.AUTOTUNE)\n",
        "test_dataset = test_dataset.batch(BATCH_SIZE).prefetch(tf.data.AUTOTUNE)"
      ]
    },
    {
      "cell_type": "code",
      "execution_count": 46,
      "metadata": {
        "id": "jqkvdcFv41wC",
        "colab": {
          "base_uri": "https://localhost:8080/"
        },
        "outputId": "846f2706-ced0-4bf9-9111-327bf9ea74da"
      },
      "outputs": [
        {
          "output_type": "stream",
          "name": "stdout",
          "text": [
            "texts:  [b'Let me start by saying that I\\'d read a number of reviews before renting this film and kind of knew what to expect. Still, I was surprised by just how bad it was. <br /><br />I am a big werewolf fan, and have grown accustomed to forgiving a great deal when watching one. Most of them have sub-par effects, poor acting, and weak storylines (at best rehashed from earlier films). So far, with the possible exception of some of the later \"Howling\" series films, this is the worst of the lot.<br /><br />First, the story. It\\'s been quoted several times in reviews on this site, so I won\\'t go into specifics. However, it is very obvious that the writer(s) had absolutely no affinity for lycanthropic monsters. As so often happens when a horror film is given to a writer who considers themselves \"above\" such fare, they tried to come up with a new spin on the werewolf mythos. That\\'s fine, but a non-horror fan trying to do this generally has disregard for the intelligence and sophistication of the horror audience and ends up writing down to them. The plot feels like a parody of werewolf films, and the events depicted just ring so false that I felt my intelligence was being seriously insulted. TV news footage, for example, never pans away from the reporter to close-up on someone in the crowd behind them. Give the characters and the viewers credit for being able to spot the bad guy in the scene without using a flashing neon sign. And that\\'s just the tip of the iceberg.<br /><br />As for effects, I have NEVER seen a less believable werewolf. I\\'d have been happier with Lon Chaney Jr. in crepe hair. The beast they used look a great deal like... well, like a guy in a cheap rubber suit with some hair glued on and some truly awful animatronics. And, I know that many people have already criticized the CG, but my God it was awful. One scene features a woman changing, and starts with a completely CG version of the actress, nude but for some reason without nipples. My first thought was, \"hey, why is one of the characters from \\'ReBoot\\' turning into a silly looking werewolf?\"<br /><br />Anyway, I like to look for positives in any film, and there were a few. The cinematography was passable (the film was shot all-digital, which is interesting) and some of the performances were not terrible. It was also interesting seeing Tippi Hedron as the world\\'s most well made-up homeless woman, and Kane Hodder as the title bad guy. Also, the Yellow Power Ranger got all growed up and... well, damn. And if you\\'re looking for skin, there\\'s some pretty tasty examples. This ends the male-pig segment of the review.<br /><br />Overall, if you want a good werewolf film, try \"An American Werewolf in London\", the original \"The Howling\", \"Dog Soldiers\", or even \"The Wolfen\" (though that one\\'s got more wolf than were). If you\\'re a lycanthrope completest, then take a gander. Otherwise, give this one a miss.'\n",
            " b\"I'm never much for classic films. Movies like Patton, Going My Way, How Green was My Valley, The Godfather, Casablanca, Annie Hall, Gone with the Wind, Lawrence of Arabia, and Citizen Kane bore me. However, I would much rather watch any one of those films 3,469 times while being tied up on a chair than watch An American in Paris once in the most luxurious suite ever. If I did the latter, I'd probably be sleeping the entire time.<br /><br />The color art direction and the music didn't interest me, Gershwin or non-Gershwin. The dancing and the singing could help an insomniac fall to sleep. The dialogue doesn't match up to Singin' in the Rain. Basically, this movie is boring. The only other film that I fell asleep while watching was Butch Cassidy and the Sundance Kid. But you can't blame me. I only slept 5 minutes the night before.<br /><br />1 star/10 (Too bad we can't give zeroes.)\"\n",
            " b'To be honest, this film is another in a series of huge disappointments...most of these so-called \"masters of horror\" films are only horrifying in terms of their sub-par effects and laughable story lines...aside from Ron Perlman, everyone else in this film cannot act to save their life...the gunshots sounded like someone was playing Bop-it under the boom mike or something, and looked completely unrealistic...overall, this film is about as scary as Home Alone...the only good masters are Cigarette Burns, Jennifer, and maybe Pelts...I don\\'t know how these directors can sleep at night knowing that they have ruined the very genre that some of them used to actually understand...']\n",
            "\n",
            "labels:  [0 0 0]\n",
            "texts:  [b\"Jess is 18, very smart and wants nothing more than to play football, when she joins a local team she has to lie to her parents again and again, as they would never approve of her chasing her dream, they want her to settle down with a nice Indian boy and learn how to cook.<br /><br />Bend it Like Beckham is a very funny feel good movie that doesn't need to be deep and complex, it's just fine as it is. The cast are all very good and they play their roles very well, the story is simple and predictable, but it works perfectly and the script is very realistic and very funny.<br /><br />A great Family movie 8/10\"\n",
            " b\"Cash (Now played by Khrystyne Haje in for Angelina Jolie) has wandered to a post apocalypse wasteland (after her protector has died from old age, said protector was played by Elias Koteas, an actual decent actor) and now she finds that people wander through the rubble looking for cyborgs to trade for scrap metal and cash. She leads a group of burned out cyborgs (That includes William Katt, Evan Lurie and a human scientist played by Zach Galligan) against bounty hunter Richard Lynch. Malcolm McDowell has two minutes of screen time as Lynch's employer. Cyborg 3 does manage to be better than the other two entries but it still is a largely dull feature. The problem this time is that the ideas with potential are never used well, the action sequences are routine and the name cast such as McDowell, Katt and Galligan are given little to do. Haje is indeed a whiny heroine and Lynch is too over the top(as usual) and the film lacks the inspiration or ambition to be as fun-bad as it's hilarious predecessor. (The one with Van Damme, the second one is just dull.) Also disappointing is the science fiction angle which almost aggressively resists any good idea it has. As an action flick this is routine and by the numbers B-movie stuff and it is competently made, that's the only thing positive I can say about it.<br /><br />*1/2 out of 4-(Poor)\"\n",
            " b'1st watched 2/28/2006 - 4 out of 10(Dir-Sydney Pollack):-DVD version I watched titled \"3 Days of the Condor\"- So so CIA drama full of laid-back performances making for a very laid-back movie. The premise of the story revolves around 7 out of 8 members of a CIA research group being killed with Robert Redford\\'s character, codename = Condor, being the one that was left. Who killed them and why? That\\'s what Redford tries to find out while trying to not be the 8th victim at the same time. Along the way, he gets Faye Dunaway\\'s character involved involved, originally because he needs a place to hide, and then she eventually helps him out after a little lovey-dovey time. This is one of a handful of innocent guy on the run stories but this one doesn\\'t have a lot of suspense. The flat performances don\\'t help and the finish doesn\\'t seal the deal for the audience enough either. Despite having a good director in Sydney Pollack and a group of classic performers, the story and the performances are not what they should be and therefore the movie is not what it should be.']\n",
            "\n",
            "labels:  [1 0 0]\n",
            "texts:  [b\"There is no doubt that this film has an impressive cast but unfortunately this doesn't help with the major downsides to the movie. I never understand why directors ask actors/actresses to use accents not their own when it is obvious to everyone they can't convince. Fiennes just can't do Irish and Fitzgerald isn't much better at Russian. When the voice is wrong then no matter how good the acting the character will never be convincing. As the for the major problem....the plot....was there one? I guess there was some sort of storyline involved but it was so full of holes that I just couldn't wait for the film to end...it was ridiculous. Save 90 minutes of your life and don't watch this movie!\"\n",
            " b\"Holy freaking God all-freaking-mighty. This movie was so bad, I thought I was on drugs. In a bad way... The character acting is the poorest thing I've seen in quite some time. This movie was more akin to Lord of the G-Strings, IMHO(it's a real movie). Most of the movie appeared to be done on a horrible green screen. My favorite part was when they are in the carriage, and you can tell there's no horse. They're fleeing from alien monsters, and going about the same speed as a swift jog. Then it switches to a far-shot with a ridiculous CG horse. And the CG in general seems to be sub-par to 1992's Beyond the Mind's Eye. I mean, Come on, really. It felt like a horrible episode of Hercules, only without Kevin Sorbo there to save the day. Worst. Movie. Ever.\"\n",
            " b'\"Antwone Fisher\" tells of a young black U.S. Navy enlisted man and product of childhood abuse and neglect (Luke) whose hostility toward others gets him a stint with the base shrink (Washington) leading to introspection, self appraisal, and a return to his roots. Pat, sanitized, and sentimental, \"Antwone Fisher\" is a solid feel-good flick about the reconciliation of past regrets and closure. Good old Hollywood style entertainment family values entertainment with just a hint of corn. (B)']\n",
            "\n",
            "labels:  [0 0 1]\n",
            "texts:  [b\"I'll be blunt. I'm not one for politically correct movies where the woman plays the bad ass who's not going to take any crap from anyone. If any one of the cast members wanted to, they could have just taken her out in a heartbeat. It was entertaining on MST 3K, but don't rent the real version. Trust me. Have I ever lied to you?\"\n",
            " b\"There should be a rule that states quite clearly that movies like Resident Evil are supposed to be made in the spirit of the game, not in the spirit of blowing up everything possible. RE was a survival horror game, and a damn effective one at that, yet Paul WS Anderson managed to make it like any other video game movie to come along. Alone in the Dark is essentially the same kind of a spirit as Resident Evil, so of course, there is the slight hope the director will manage to have some piece of a brain enough to make a horror movie and not an action movie. Instead, Alone in the Dark just proves that there is no longer hope for video games becoming movies.<br /><br />The plot, despite the fact that it obviously isn't supposed to matter, is the largest of many problems with the movie. The movie starts with what can only be described as five minutes of scrolling text that may or may not be important, as after a minute passes, the audience stops caring and just sits through the rest hitting the object closest to them. Then there's something about an orphanage, some artefacts, an ancient tribe, some bureaucracy and some demons, all of which get so jumbled together that the viewers really can't follow with what is going on. Characters move in and out of the plot like candy, some having huge build-ups for meaningless deaths. Basically, what I can understand is that some demons got released, and Edward Carnby (Slater) has some link to them thanks to some operation given to children in his orphanage which has failed on him. He finds an artefact involving the demons and brings it to an ex-girlfriend anthropologist (Reid), who of course he manages to have sex with right away for no good reason. Then, out of nowhere, all hell breaks loose, and the pair end up with a military team led by some asshole commander (Dorff), who apparently has a mutual hatred for Carnby.<br /><br />It's all ridiculous, and the reason I don't really understand it isn't just because it's complicated and jumbled, but it leaves no room for anyone to really care. Instead, I highly recommend that, if you must see this film, bring a tennis ball or something to occupy yourself when the plot manages to bore you into confusion.<br /><br />The action scenes in a movie with a plot as terrible as this should at least bring it up a little, right? Too bad, this movie is like any other ruined crap ever made, with enough quick cuts to behead a coop of chickens. Considering that this is based on a horror game, not an action game, it is especially annoying.<br /><br />The first action scene involving a man chasing Cranby from a taxi is among the worst I have ever had to witness, and the rest isn't all that great either. The demons look somewhat cool, though the fact that they turn into powder when killed takes away all that effect. Scenes involving lots of guns which should be cool to watch instead involve the muzzle fire as the only source of light and the camera zooming and panning faster than the head of a crack addict. It's all the kind of seizure inducing crap that keeps children in bed at night.<br /><br />The acting is what I like to call taking actors and making them do nothing. Slater does nothing but sound important for the whole movie, though he does seem to have more talent than he is letting on. The same is true of Dorff, who gets a thankless role despite actually having some talent (something that has happened to him a lot). Reid is pretty much exactly what she should be, background sex appeal, as whenever she tries to act it is a disaster (as is the incredibly bad scientist look she has in the beginning).<br /><br />In all, this is the type of movie that worries me about future video game movies. If they keep ruining the spirit like this, it's only a matter of time before Samus Aran is killing Middle-Easterns with an AK-47 and Tommy Vercetti is fighting a squadron of aliens. Unlike Resident Evil, however, this one doesn't deserve a second chance, as I don't think anything could possibly help me forget just how terrible this movie is. It's bland, uninteresting and unexciting. This is the movie equivalent of diarrhea; it's all thrown together, nothing really fits and, in the end, you're just glad it's over.<br /><br />TOTAL: 4%\"\n",
            " b'The memory of the \"The Last Hunt\" has stuck with me since I saw it in 1956 when I was 13. It is a movie that was far ahead of others at the time in that it addressed the treatment of the natives, the environment, and the ever present contrast between the short and long term effects of greed. It is as relevant today as in 1956, a cinemagraphic discussion of utmost depth and relevance. To top it off the setting is beautiful and the cinematography excellent. The memory of this movie will be with me to the end of my days.']\n",
            "\n",
            "labels:  [0 0 1]\n"
          ]
        }
      ],
      "source": [
        "for i in range(1,5):\n",
        "  for example, label in train_dataset.take(1):\n",
        "    print('texts: ', example.numpy()[:3])\n",
        "    print()\n",
        "    print('labels: ', label.numpy()[:3])"
      ]
    },
    {
      "cell_type": "markdown",
      "source": [
        "# Création de l'encodeur de texte."
      ],
      "metadata": {
        "id": "CRa-TE8nmaAy"
      }
    },
    {
      "cell_type": "code",
      "execution_count": 9,
      "metadata": {
        "id": "uC25Lu1Yvuqy"
      },
      "outputs": [],
      "source": [
        "VOCAB_SIZE = 1000\n",
        "encoder = tf.keras.layers.TextVectorization(\n",
        "    max_tokens=VOCAB_SIZE)\n",
        "encoder.adapt(train_dataset.map(lambda text, label: text))"
      ]
    },
    {
      "cell_type": "markdown",
      "source": [
        "# Extraction des 20 premiers éléments du vocabulaire de l'encodeur de texte."
      ],
      "metadata": {
        "id": "r00mt3dtmpmS"
      }
    },
    {
      "cell_type": "code",
      "execution_count": 10,
      "metadata": {
        "id": "tBoyjjWg0Ac9",
        "colab": {
          "base_uri": "https://localhost:8080/"
        },
        "outputId": "a3e191fd-ddfe-48ba-8cbf-74c9b1ccfb87"
      },
      "outputs": [
        {
          "output_type": "execute_result",
          "data": {
            "text/plain": [
              "array(['', '[UNK]', 'the', 'and', 'a', 'of', 'to', 'is', 'in', 'it', 'i',\n",
              "       'this', 'that', 'br', 'was', 'as', 'for', 'with', 'movie', 'but'],\n",
              "      dtype='<U14')"
            ]
          },
          "metadata": {},
          "execution_count": 10
        }
      ],
      "source": [
        "vocab = np.array(encoder.get_vocabulary())\n",
        "vocab[:20]"
      ]
    },
    {
      "cell_type": "markdown",
      "source": [
        "# Encodage des  exemples à l'aide de l'encodeur de texte."
      ],
      "metadata": {
        "id": "JIdpbsP3m3gH"
      }
    },
    {
      "cell_type": "code",
      "execution_count": 11,
      "metadata": {
        "id": "RGc7C9WiwRWs",
        "colab": {
          "base_uri": "https://localhost:8080/"
        },
        "outputId": "83132564-3351-4de5-b3cf-8bbd507b6d75"
      },
      "outputs": [
        {
          "output_type": "execute_result",
          "data": {
            "text/plain": [
              "array([[  1, 220,   4, ...,   0,   0,   0],\n",
              "       [  1,   1,   7, ...,   0,   0,   0],\n",
              "       [ 11,  18, 268, ...,   0,   0,   0]])"
            ]
          },
          "metadata": {},
          "execution_count": 11
        }
      ],
      "source": [
        "encoded_example = encoder(example)[:3].numpy()\n",
        "encoded_example"
      ]
    },
    {
      "cell_type": "markdown",
      "source": [
        "# Comparaison entre les exemples originaux et les exemples encodés avec l'encodeur de texte."
      ],
      "metadata": {
        "id": "SNSgbqHZnIqH"
      }
    },
    {
      "cell_type": "code",
      "execution_count": 12,
      "metadata": {
        "id": "N_tD0QY5wXaK",
        "colab": {
          "base_uri": "https://localhost:8080/"
        },
        "outputId": "ef19b7bb-f54b-4600-fe60-c4e6f24f7dff"
      },
      "outputs": [
        {
          "output_type": "stream",
          "name": "stdout",
          "text": [
            "Original:  b\"Strained comedy, a sketch-like revue which was initially a vehicle to showcase one-time radio star Jack Pearl but is now best remembered as America's introduction to The Three Stooges. Actually, Larry, Curly and Moe are billed alongside comic Ted Healy as Ted Healy and his Three Stooges. Although the supporting cast features Jimmy Durante (who is completely wasted on dim material) and ZaSu Pitts, the only audience for the film these days are Stooges-addicts, and even they won't find much to applaud here. Incredibly loud and overbearing, it shows how far Hollywood had to go to reach a certain level of slapstick sophistication. *1/2 from ****\"\n",
            "Round-trip:  [UNK] comedy a [UNK] [UNK] which was [UNK] a [UNK] to [UNK] [UNK] [UNK] star jack [UNK] but is now best [UNK] as [UNK] [UNK] to the three [UNK] actually [UNK] [UNK] and [UNK] are [UNK] [UNK] comic [UNK] [UNK] as [UNK] [UNK] and his three [UNK] although the supporting cast features [UNK] [UNK] who is completely [UNK] on [UNK] material and [UNK] [UNK] the only audience for the film these days are [UNK] and even they wont find much to [UNK] here incredibly [UNK] and [UNK] it shows how far hollywood had to go to [UNK] a certain level of [UNK] [UNK] [UNK] from                                                                                                                                                                                                                                                                                                                                                                                                                                                                                                                                                                                                                                                                                                                                                \n",
            "\n",
            "Original:  b'Ettore Scola is one of the most important Italian directors. My parents and I watched together \"C\\'eravamo tanto amati\" on a summer night: we liked it, but we didn\\'t love it as we loved \"A special day\". I believe Ettore Scola is pretty underrated: we often forget to remember him, maybe because his latest films were disappointing. And so, yesterday night, my mum and I sat on our sofa to enjoy this masterpiece. Writing, direction, cinematography, score and production design were sober and accurate, but the thing I liked the most was the chemistry between Loren and Mastroianni. They\\'re both excellent actors and play the main roles of Antonietta and Gabriele. Antonietta is an housewife: married with a fanatic Fascist, she has six children but her husband wants to have another child to get a prize for the huge families. Gabriele is simply an Anti-Fascist. They spend together a special day, that special day of 1938 when Hitler came to Rome visiting Mussolini. I don\\'t want to spoil anymore about the plot: go looking for this film!'\n",
            "Round-trip:  [UNK] [UNK] is one of the most important [UNK] directors my parents and i watched together [UNK] [UNK] [UNK] on a [UNK] night we liked it but we didnt love it as we loved a special day i believe [UNK] [UNK] is pretty [UNK] we often forget to remember him maybe because his [UNK] films were [UNK] and so [UNK] night my [UNK] and i [UNK] on our [UNK] to enjoy this [UNK] writing direction cinematography score and production [UNK] were [UNK] and [UNK] but the thing i liked the most was the [UNK] between [UNK] and [UNK] theyre both excellent actors and play the main roles of [UNK] and [UNK] [UNK] is an [UNK] [UNK] with a [UNK] [UNK] she has [UNK] children but her husband wants to have another child to get a [UNK] for the huge [UNK] [UNK] is simply an [UNK] they [UNK] together a special day that special day of [UNK] when [UNK] came to [UNK] [UNK] [UNK] i dont want to [UNK] [UNK] about the plot go looking for this film                                                                                                                                                                                                                                                                                                                                                                                                                                                                                                                                                                                                                                                                        \n",
            "\n",
            "Original:  b\"This movie wasn't that bad when compared to the first two sequels to the original. It's directed by Martin Kitrosser of Friday the 13th fame. The acting is very bad indeed, but the gore and special effects help make it interesting. Thats one thing I like about Screaming Mad George (make up effects artist for the film), his effects are so off-the-wall and bizarre that they will keep you watching a bad movie just to find out how crazy they're gonna get. The movie isn't really all that gory, but there is an EXTREMELY nasty eyeball-munching scene in the middle involving a toy maggot (what!?!) Mickey Rooney makes a guest appearance that he probably wasn't too enthusiastic about but needed the money at the time, possibly? If you liked the weirdo 4th installment (my favorite of all 5), you'll probably like this one. I liked it better than the Matrix! Enjoy.\"\n",
            "Round-trip:  this movie wasnt that bad when [UNK] to the first two [UNK] to the original its directed by [UNK] [UNK] of [UNK] the [UNK] [UNK] the acting is very bad indeed but the gore and special effects help make it interesting thats one thing i like about [UNK] [UNK] george make up effects [UNK] for the film his effects are so [UNK] and [UNK] that they will keep you watching a bad movie just to find out how crazy theyre [UNK] get the movie isnt really all that [UNK] but there is an extremely [UNK] [UNK] scene in the middle [UNK] a [UNK] [UNK] what [UNK] [UNK] makes a [UNK] [UNK] that he probably wasnt too [UNK] about but needed the money at the time possibly if you liked the [UNK] [UNK] [UNK] my favorite of all 5 youll probably like this one i liked it better than the [UNK] enjoy                                                                                                                                                                                                                                                                                                                                                                                                                                                                                                                                                                                                                                                                                                  \n",
            "\n"
          ]
        }
      ],
      "source": [
        "for n in range(3):\n",
        "  print(\"Original: \", example[n].numpy())\n",
        "  print(\"Round-trip: \", \" \".join(vocab[encoded_example[n]]))\n",
        "  print()"
      ]
    },
    {
      "cell_type": "markdown",
      "source": [
        "# Création d'un modèle séquentiel avec les couches suivantes :\n",
        "\n",
        "1.   Encodeur de texte\n",
        "2.   Couche d'incorporation (Embedding) avec une dimension d'entrée égale à la taille du vocabulaire de l'encodeur et une dimension de sortie de 64. La mise en masque (mask_zero=True) est utilisée pour gérer les longueurs variables de séquence.\n",
        "3.   Couche Bidirectionnelle LSTM avec 64 unités.\n",
        "5.   Couche Dense avec 64 unités et une activation ReLU.\n",
        "4.   Couche Dense avec 1 unité (pour la classification binaire)."
      ],
      "metadata": {
        "id": "STIRsLHlnndi"
      }
    },
    {
      "cell_type": "code",
      "execution_count": 13,
      "metadata": {
        "id": "LwfoBkmRYcP3"
      },
      "outputs": [],
      "source": [
        "model = tf.keras.Sequential([\n",
        "    encoder,\n",
        "    tf.keras.layers.Embedding(\n",
        "        input_dim=len(encoder.get_vocabulary()),\n",
        "        output_dim=64,\n",
        "        mask_zero=True),\n",
        "    tf.keras.layers.Bidirectional(tf.keras.layers.LSTM(64)),\n",
        "    tf.keras.layers.Dense(64, activation='relu'),\n",
        "    tf.keras.layers.Dense(1)\n",
        "])"
      ]
    },
    {
      "cell_type": "code",
      "execution_count": 14,
      "metadata": {
        "id": "87a8-CwfKebw",
        "colab": {
          "base_uri": "https://localhost:8080/"
        },
        "outputId": "1313ee16-92ef-4fa0-8cc4-1f6a551784a6"
      },
      "outputs": [
        {
          "output_type": "stream",
          "name": "stdout",
          "text": [
            "[False, True, True, True, True]\n"
          ]
        }
      ],
      "source": [
        "print([layer.supports_masking for layer in model.layers])"
      ]
    },
    {
      "cell_type": "markdown",
      "source": [
        "Compilation du modèle avec une fonction de perte binaire BinaryCrossentropy adaptée aux logits, un optimiseur Adam avec un taux d'apprentissage de 1e-4 et des métriques de précision (accuracy)."
      ],
      "metadata": {
        "id": "8V003guApLoC"
      }
    },
    {
      "cell_type": "code",
      "execution_count": 17,
      "metadata": {
        "id": "kj2xei41YZjC"
      },
      "outputs": [],
      "source": [
        "model.compile(loss=tf.keras.losses.BinaryCrossentropy(from_logits=True),\n",
        "              optimizer=tf.keras.optimizers.Adam(1e-4),\n",
        "              metrics=['accuracy'])"
      ]
    },
    {
      "cell_type": "markdown",
      "source": [
        "le modèle est entraîné sur les données d'entraînement (train_dataset) pendant 10 époques,  en utilisant les données de validation (test_dataset) pour évaluer les performances du modèle après chaque époque. Le paramètre validation_steps=30 indique le nombre d'étapes de validation effectuées à chaque époque."
      ],
      "metadata": {
        "id": "kCSKjolzparZ"
      }
    },
    {
      "cell_type": "code",
      "execution_count": 18,
      "metadata": {
        "id": "hw86wWS4YgR2",
        "colab": {
          "base_uri": "https://localhost:8080/"
        },
        "outputId": "ab643572-1ca9-4d3e-bf73-fbdb70208968"
      },
      "outputs": [
        {
          "output_type": "stream",
          "name": "stdout",
          "text": [
            "Epoch 1/10\n",
            "391/391 [==============================] - 48s 99ms/step - loss: 0.6508 - accuracy: 0.5510 - val_loss: 0.5102 - val_accuracy: 0.7505\n",
            "Epoch 2/10\n",
            "391/391 [==============================] - 25s 64ms/step - loss: 0.4222 - accuracy: 0.8036 - val_loss: 0.3723 - val_accuracy: 0.8318\n",
            "Epoch 3/10\n",
            "391/391 [==============================] - 24s 61ms/step - loss: 0.3426 - accuracy: 0.8504 - val_loss: 0.3444 - val_accuracy: 0.8417\n",
            "Epoch 4/10\n",
            "391/391 [==============================] - 23s 59ms/step - loss: 0.3230 - accuracy: 0.8613 - val_loss: 0.3407 - val_accuracy: 0.8589\n",
            "Epoch 5/10\n",
            "391/391 [==============================] - 23s 59ms/step - loss: 0.3116 - accuracy: 0.8688 - val_loss: 0.3267 - val_accuracy: 0.8484\n",
            "Epoch 6/10\n",
            "391/391 [==============================] - 24s 62ms/step - loss: 0.3062 - accuracy: 0.8691 - val_loss: 0.3207 - val_accuracy: 0.8573\n",
            "Epoch 7/10\n",
            "391/391 [==============================] - 23s 59ms/step - loss: 0.3024 - accuracy: 0.8707 - val_loss: 0.3220 - val_accuracy: 0.8630\n",
            "Epoch 8/10\n",
            "391/391 [==============================] - 23s 59ms/step - loss: 0.3007 - accuracy: 0.8721 - val_loss: 0.3191 - val_accuracy: 0.8573\n",
            "Epoch 9/10\n",
            "391/391 [==============================] - 23s 59ms/step - loss: 0.2962 - accuracy: 0.8747 - val_loss: 0.3173 - val_accuracy: 0.8594\n",
            "Epoch 10/10\n",
            "391/391 [==============================] - 23s 60ms/step - loss: 0.2963 - accuracy: 0.8731 - val_loss: 0.3182 - val_accuracy: 0.8521\n"
          ]
        }
      ],
      "source": [
        "history = model.fit(train_dataset, epochs=10,\n",
        "                    validation_data=test_dataset,\n",
        "                    validation_steps=30)"
      ]
    },
    {
      "cell_type": "markdown",
      "source": [
        "Évaluation du modèle sur le jeu de données de test (test_dataset). Le code calcule la perte de test (test_loss) et la précision de test (test_acc)."
      ],
      "metadata": {
        "id": "men-jvykpsja"
      }
    },
    {
      "cell_type": "code",
      "execution_count": 19,
      "metadata": {
        "id": "BaNbXi43YgUT",
        "colab": {
          "base_uri": "https://localhost:8080/"
        },
        "outputId": "6d09ccb4-8492-4b78-c477-67a75292056e"
      },
      "outputs": [
        {
          "output_type": "stream",
          "name": "stdout",
          "text": [
            "391/391 [==============================] - 11s 28ms/step - loss: 0.3159 - accuracy: 0.8541\n",
            "Test Loss: 0.3159213662147522\n",
            "Test Accuracy: 0.8540800213813782\n"
          ]
        }
      ],
      "source": [
        "test_loss, test_acc = model.evaluate(test_dataset)\n",
        "\n",
        "print('Test Loss:', test_loss)\n",
        "print('Test Accuracy:', test_acc)"
      ]
    },
    {
      "cell_type": "markdown",
      "source": [
        "Définition de la fonction plot_graphs pour tracer les courbes de métriques d'apprentissage et de validation au fil des époques."
      ],
      "metadata": {
        "id": "ptKcEIHBp6Ya"
      }
    },
    {
      "cell_type": "code",
      "execution_count": 3,
      "metadata": {
        "id": "Mp1Z7P9pYRSK"
      },
      "outputs": [],
      "source": [
        "def plot_graphs(history, metric):\n",
        "  plt.plot(history.history[metric])\n",
        "  plt.plot(history.history['val_'+metric], '')\n",
        "  plt.xlabel(\"Epochs\")\n",
        "  plt.ylabel(metric)\n",
        "  plt.legend([metric, 'val_'+metric])"
      ]
    },
    {
      "cell_type": "code",
      "execution_count": 20,
      "metadata": {
        "id": "OZmwt_mzaQJk",
        "colab": {
          "base_uri": "https://localhost:8080/",
          "height": 718
        },
        "outputId": "2e416474-92dc-4fb6-b721-803cb57fbe20"
      },
      "outputs": [
        {
          "output_type": "execute_result",
          "data": {
            "text/plain": [
              "(0.0, 0.6685035586357116)"
            ]
          },
          "metadata": {},
          "execution_count": 20
        },
        {
          "output_type": "display_data",
          "data": {
            "text/plain": [
              "<Figure size 1600x800 with 2 Axes>"
            ],
            "image/png": "[encoded data removed]"
          },
          "metadata": {}
        }
      ],
      "source": [
        "plt.figure(figsize=(16, 8))\n",
        "plt.subplot(1, 2, 1)\n",
        "plot_graphs(history, 'accuracy')\n",
        "plt.ylim(None, 1)\n",
        "plt.subplot(1, 2, 2)\n",
        "plot_graphs(history, 'loss')\n",
        "plt.ylim(0, None)"
      ]
    },
    {
      "cell_type": "markdown",
      "source": [
        "En conclusion, le code présenté met en œuvre un modèle de traitement de texte basé sur un réseau de neurones récurrents (LSTM) pour effectuer une tâche de classification binaire, telle que l'analyse de sentiments. Le modèle utilise un encodeur de texte pour convertir les séquences de mots en représentations numériques. Il est ensuite entraîné avec un ensemble de données d'entraînement et évalué sur un ensemble de données de test."
      ],
      "metadata": {
        "id": "RzOJharwqv-i"
      }
    }
  ],
  "metadata": {
    "accelerator": "GPU",
    "colab": {
      "name": "text_classification_rnn.ipynb",
      "provenance": []
    },
    "kernelspec": {
      "display_name": "Python 3",
      "name": "python3"
    }
  },
  "nbformat": 4,
  "nbformat_minor": 0
}